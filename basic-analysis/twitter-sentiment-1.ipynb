{
 "cells": [
  {
   "cell_type": "markdown",
   "metadata": {},
   "source": [
    "# Twitter sentiment\n",
    "Basic first pass analyses of twitter sentiment. This notebook is really about setting up my initial data scraping.\n",
    "\n",
    "Will base some of this on the tutorial [here](https://dev.to/rodolfoferro/sentiment-analysis-on-trumpss-tweets-using-python-).\n",
    "\n",
    "Also potentially useful:\n",
    "- https://marcobonzanini.com/2015/03/02/mining-twitter-data-with-python-part-1/\n",
    "- https://mediaeffectsresearch.wordpress.com/constructing-a-retweet-network/\n",
    "- http://www.alex-hanna.com/tworkshops/lesson-7-mention-network-analysis/\n",
    "- https://towardsdatascience.com/generating-twitter-ego-networks-detecting-ego-communities-93897883d255\n",
    "- https://datascienceplus.com/twitter-analysis-with-python/\n",
    "- https://www.slideshare.net/giladlotan/pydata-gilad-networkxupload\n"
   ]
  },
  {
   "cell_type": "code",
   "execution_count": 2,
   "metadata": {},
   "outputs": [],
   "source": [
    "# General:\n",
    "import tweepy           # To consume Twitter's API\n",
    "import pandas as pd     # To handle data\n",
    "import numpy as np      # For number computing\n",
    "\n",
    "# For plotting and visualization:\n",
    "from IPython.display import display\n",
    "import matplotlib.pyplot as plt\n",
    "import seaborn as sns\n",
    "%matplotlib inline\n"
   ]
  },
  {
   "cell_type": "markdown",
   "metadata": {},
   "source": [
    "Set up twitter access."
   ]
  },
  {
   "cell_type": "code",
   "execution_count": 3,
   "metadata": {},
   "outputs": [],
   "source": [
    "# We import our access keys:\n",
    "from credentials import *    # This will allow us to use the keys as variables\n",
    "\n",
    "# API's setup:\n",
    "def twitter_setup():\n",
    "    \"\"\"\n",
    "    Utility function to setup the Twitter's API\n",
    "    with our access keys provided.\n",
    "    \"\"\"\n",
    "    # Authentication and access using keys:\n",
    "    auth = tweepy.OAuthHandler(CONSUMER_KEY, CONSUMER_SECRET)\n",
    "    auth.set_access_token(ACCESS_TOKEN, ACCESS_SECRET)\n",
    "\n",
    "    # Return API with authentication:\n",
    "    api = tweepy.API(auth)\n",
    "    return api\n"
   ]
  },
  {
   "cell_type": "markdown",
   "metadata": {},
   "source": [
    "Set up tweet extraction."
   ]
  },
  {
   "cell_type": "code",
   "execution_count": 5,
   "metadata": {},
   "outputs": [
    {
     "name": "stdout",
     "output_type": "stream",
     "text": [
      "Number of tweets extracted: 200.\n",
      "\n",
      "5 recent tweets:\n",
      "\n",
      "RT @jeremyphoward: Practical Deep Learning for Coders, 2019 edition, is now available. With a shiny new video player with searchable transc…\n",
      "\n",
      "If you live under a rock, and do not know what that is, it's https://t.co/KIPAos6MTL\n",
      "Online collaborative notebooks… https://t.co/1BiXJ4Udhs\n",
      "\n",
      "PyTorch is now installed by default on Google Colaboratory.\n",
      "Go ahead and `import torch`, `import torchvision`, `imp… https://t.co/K1IU93XP0g\n",
      "\n",
      "@RitchieNg @TensorFlow @ylecun pytorch's default initialization is actually from lecun'99 \"Efficient Backprop\"\n",
      "\n",
      "@deliprao https://t.co/uaGiGCJxxW\n",
      "\n"
     ]
    }
   ],
   "source": [
    "# We create an extractor object:\n",
    "extractor = twitter_setup()\n",
    "\n",
    "# We create a tweet list as follows:\n",
    "tweets = extractor.user_timeline(screen_name=\"PyTorch\", count=200)\n",
    "print(\"Number of tweets extracted: {}.\\n\".format(len(tweets)))\n",
    "\n",
    "# We print the most recent 5 tweets:\n",
    "print(\"5 recent tweets:\\n\")\n",
    "for tweet in tweets[:5]:\n",
    "    print(tweet.text)\n",
    "    print()\n"
   ]
  },
  {
   "cell_type": "code",
   "execution_count": 6,
   "metadata": {},
   "outputs": [
    {
     "data": {
      "text/html": [
       "<div>\n",
       "<style scoped>\n",
       "    .dataframe tbody tr th:only-of-type {\n",
       "        vertical-align: middle;\n",
       "    }\n",
       "\n",
       "    .dataframe tbody tr th {\n",
       "        vertical-align: top;\n",
       "    }\n",
       "\n",
       "    .dataframe thead th {\n",
       "        text-align: right;\n",
       "    }\n",
       "</style>\n",
       "<table border=\"1\" class=\"dataframe\">\n",
       "  <thead>\n",
       "    <tr style=\"text-align: right;\">\n",
       "      <th></th>\n",
       "      <th>Tweets</th>\n",
       "    </tr>\n",
       "  </thead>\n",
       "  <tbody>\n",
       "    <tr>\n",
       "      <th>0</th>\n",
       "      <td>RT @jeremyphoward: Practical Deep Learning for...</td>\n",
       "    </tr>\n",
       "    <tr>\n",
       "      <th>1</th>\n",
       "      <td>If you live under a rock, and do not know what...</td>\n",
       "    </tr>\n",
       "    <tr>\n",
       "      <th>2</th>\n",
       "      <td>PyTorch is now installed by default on Google ...</td>\n",
       "    </tr>\n",
       "    <tr>\n",
       "      <th>3</th>\n",
       "      <td>@RitchieNg @TensorFlow @ylecun pytorch's defau...</td>\n",
       "    </tr>\n",
       "    <tr>\n",
       "      <th>4</th>\n",
       "      <td>@deliprao https://t.co/uaGiGCJxxW</td>\n",
       "    </tr>\n",
       "    <tr>\n",
       "      <th>5</th>\n",
       "      <td>RT @fb_engineering: We are open-sourcing a new...</td>\n",
       "    </tr>\n",
       "    <tr>\n",
       "      <th>6</th>\n",
       "      <td>RT @lmazare: The PyTorch/ocaml bindings should...</td>\n",
       "    </tr>\n",
       "    <tr>\n",
       "      <th>7</th>\n",
       "      <td>RT @jeremyphoward: Really proud to share \"What...</td>\n",
       "    </tr>\n",
       "    <tr>\n",
       "      <th>8</th>\n",
       "      <td>Delira - Deep Learning in Radiology\\nA Lightwe...</td>\n",
       "    </tr>\n",
       "    <tr>\n",
       "      <th>9</th>\n",
       "      <td>RT @edgarriba: PyTorch Geometry v0.1.1 is out ...</td>\n",
       "    </tr>\n",
       "  </tbody>\n",
       "</table>\n",
       "</div>"
      ],
      "text/plain": [
       "                                              Tweets\n",
       "0  RT @jeremyphoward: Practical Deep Learning for...\n",
       "1  If you live under a rock, and do not know what...\n",
       "2  PyTorch is now installed by default on Google ...\n",
       "3  @RitchieNg @TensorFlow @ylecun pytorch's defau...\n",
       "4                  @deliprao https://t.co/uaGiGCJxxW\n",
       "5  RT @fb_engineering: We are open-sourcing a new...\n",
       "6  RT @lmazare: The PyTorch/ocaml bindings should...\n",
       "7  RT @jeremyphoward: Really proud to share \"What...\n",
       "8  Delira - Deep Learning in Radiology\\nA Lightwe...\n",
       "9  RT @edgarriba: PyTorch Geometry v0.1.1 is out ..."
      ]
     },
     "metadata": {},
     "output_type": "display_data"
    }
   ],
   "source": [
    "# We create a pandas dataframe as follows:\n",
    "data = pd.DataFrame(data=[tweet.text for tweet in tweets], columns=['Tweets'])\n",
    "\n",
    "# We display the first 10 elements of the dataframe:\n",
    "display(data.head(10))\n"
   ]
  },
  {
   "cell_type": "code",
   "execution_count": 7,
   "metadata": {},
   "outputs": [
    {
     "name": "stdout",
     "output_type": "stream",
     "text": [
      "['__class__', '__delattr__', '__dict__', '__dir__', '__doc__', '__eq__', '__format__', '__ge__', '__getattribute__', '__getstate__', '__gt__', '__hash__', '__init__', '__init_subclass__', '__le__', '__lt__', '__module__', '__ne__', '__new__', '__reduce__', '__reduce_ex__', '__repr__', '__setattr__', '__sizeof__', '__str__', '__subclasshook__', '__weakref__', '_api', '_json', 'author', 'contributors', 'coordinates', 'created_at', 'destroy', 'entities', 'favorite', 'favorite_count', 'favorited', 'geo', 'id', 'id_str', 'in_reply_to_screen_name', 'in_reply_to_status_id', 'in_reply_to_status_id_str', 'in_reply_to_user_id', 'in_reply_to_user_id_str', 'is_quote_status', 'lang', 'parse', 'parse_list', 'place', 'retweet', 'retweet_count', 'retweeted', 'retweeted_status', 'retweets', 'source', 'source_url', 'text', 'truncated', 'user']\n"
     ]
    }
   ],
   "source": [
    "# Internal methods of a single tweet object:\n",
    "print(dir(tweets[0]))\n"
   ]
  },
  {
   "cell_type": "code",
   "execution_count": 8,
   "metadata": {},
   "outputs": [
    {
     "name": "stdout",
     "output_type": "stream",
     "text": [
      "1088893915456028673\n",
      "2019-01-25 20:18:34\n",
      "Twitter Web Client\n",
      "0\n",
      "903\n",
      "None\n",
      "None\n",
      "{'hashtags': [], 'symbols': [], 'user_mentions': [{'screen_name': 'jeremyphoward', 'name': 'Jeremy Howard', 'id': 175282603, 'id_str': '175282603', 'indices': [3, 17]}], 'urls': []}\n"
     ]
    }
   ],
   "source": [
    "# We print info from the first tweet:\n",
    "print(tweets[0].id)\n",
    "print(tweets[0].created_at)\n",
    "print(tweets[0].source)\n",
    "print(tweets[0].favorite_count)\n",
    "print(tweets[0].retweet_count)\n",
    "print(tweets[0].geo)\n",
    "print(tweets[0].coordinates)\n",
    "print(tweets[0].entities)\n"
   ]
  },
  {
   "cell_type": "code",
   "execution_count": 9,
   "metadata": {},
   "outputs": [],
   "source": [
    "# We add relevant data:\n",
    "data['len']  = np.array([len(tweet.text) for tweet in tweets])\n",
    "data['ID']   = np.array([tweet.id for tweet in tweets])\n",
    "data['Date'] = np.array([tweet.created_at for tweet in tweets])\n",
    "data['Source'] = np.array([tweet.source for tweet in tweets])\n",
    "data['Likes']  = np.array([tweet.favorite_count for tweet in tweets])\n",
    "data['RTs']    = np.array([tweet.retweet_count for tweet in tweets])\n"
   ]
  },
  {
   "cell_type": "code",
   "execution_count": 10,
   "metadata": {},
   "outputs": [
    {
     "data": {
      "text/html": [
       "<div>\n",
       "<style scoped>\n",
       "    .dataframe tbody tr th:only-of-type {\n",
       "        vertical-align: middle;\n",
       "    }\n",
       "\n",
       "    .dataframe tbody tr th {\n",
       "        vertical-align: top;\n",
       "    }\n",
       "\n",
       "    .dataframe thead th {\n",
       "        text-align: right;\n",
       "    }\n",
       "</style>\n",
       "<table border=\"1\" class=\"dataframe\">\n",
       "  <thead>\n",
       "    <tr style=\"text-align: right;\">\n",
       "      <th></th>\n",
       "      <th>Tweets</th>\n",
       "      <th>len</th>\n",
       "      <th>ID</th>\n",
       "      <th>Date</th>\n",
       "      <th>Source</th>\n",
       "      <th>Likes</th>\n",
       "      <th>RTs</th>\n",
       "    </tr>\n",
       "  </thead>\n",
       "  <tbody>\n",
       "    <tr>\n",
       "      <th>0</th>\n",
       "      <td>RT @jeremyphoward: Practical Deep Learning for...</td>\n",
       "      <td>140</td>\n",
       "      <td>1088893915456028673</td>\n",
       "      <td>2019-01-25 20:18:34</td>\n",
       "      <td>Twitter Web Client</td>\n",
       "      <td>0</td>\n",
       "      <td>903</td>\n",
       "    </tr>\n",
       "    <tr>\n",
       "      <th>1</th>\n",
       "      <td>If you live under a rock, and do not know what...</td>\n",
       "      <td>140</td>\n",
       "      <td>1088882891403259909</td>\n",
       "      <td>2019-01-25 19:34:46</td>\n",
       "      <td>Twitter Web Client</td>\n",
       "      <td>158</td>\n",
       "      <td>29</td>\n",
       "    </tr>\n",
       "    <tr>\n",
       "      <th>2</th>\n",
       "      <td>PyTorch is now installed by default on Google ...</td>\n",
       "      <td>140</td>\n",
       "      <td>1088882504700968960</td>\n",
       "      <td>2019-01-25 19:33:14</td>\n",
       "      <td>Twitter Web Client</td>\n",
       "      <td>1521</td>\n",
       "      <td>445</td>\n",
       "    </tr>\n",
       "    <tr>\n",
       "      <th>3</th>\n",
       "      <td>@RitchieNg @TensorFlow @ylecun pytorch's defau...</td>\n",
       "      <td>110</td>\n",
       "      <td>1088876243695661057</td>\n",
       "      <td>2019-01-25 19:08:21</td>\n",
       "      <td>Twitter Web Client</td>\n",
       "      <td>49</td>\n",
       "      <td>4</td>\n",
       "    </tr>\n",
       "    <tr>\n",
       "      <th>4</th>\n",
       "      <td>@deliprao https://t.co/uaGiGCJxxW</td>\n",
       "      <td>33</td>\n",
       "      <td>1088876049218355207</td>\n",
       "      <td>2019-01-25 19:07:35</td>\n",
       "      <td>Twitter Web Client</td>\n",
       "      <td>5</td>\n",
       "      <td>0</td>\n",
       "    </tr>\n",
       "    <tr>\n",
       "      <th>5</th>\n",
       "      <td>RT @fb_engineering: We are open-sourcing a new...</td>\n",
       "      <td>140</td>\n",
       "      <td>1087829562480881664</td>\n",
       "      <td>2019-01-22 21:49:13</td>\n",
       "      <td>Twitter Web Client</td>\n",
       "      <td>0</td>\n",
       "      <td>236</td>\n",
       "    </tr>\n",
       "    <tr>\n",
       "      <th>6</th>\n",
       "      <td>RT @lmazare: The PyTorch/ocaml bindings should...</td>\n",
       "      <td>140</td>\n",
       "      <td>1086848463302647808</td>\n",
       "      <td>2019-01-20 04:50:40</td>\n",
       "      <td>Twitter Web Client</td>\n",
       "      <td>0</td>\n",
       "      <td>11</td>\n",
       "    </tr>\n",
       "    <tr>\n",
       "      <th>7</th>\n",
       "      <td>RT @jeremyphoward: Really proud to share \"What...</td>\n",
       "      <td>140</td>\n",
       "      <td>1085588508595515398</td>\n",
       "      <td>2019-01-16 17:24:04</td>\n",
       "      <td>Twitter Web Client</td>\n",
       "      <td>0</td>\n",
       "      <td>395</td>\n",
       "    </tr>\n",
       "    <tr>\n",
       "      <th>8</th>\n",
       "      <td>Delira - Deep Learning in Radiology\\nA Lightwe...</td>\n",
       "      <td>139</td>\n",
       "      <td>1085284497397112838</td>\n",
       "      <td>2019-01-15 21:16:02</td>\n",
       "      <td>Twitter Web Client</td>\n",
       "      <td>256</td>\n",
       "      <td>90</td>\n",
       "    </tr>\n",
       "    <tr>\n",
       "      <th>9</th>\n",
       "      <td>RT @edgarriba: PyTorch Geometry v0.1.1 is out ...</td>\n",
       "      <td>140</td>\n",
       "      <td>1083109932742987777</td>\n",
       "      <td>2019-01-09 21:15:05</td>\n",
       "      <td>Twitter Web Client</td>\n",
       "      <td>0</td>\n",
       "      <td>36</td>\n",
       "    </tr>\n",
       "  </tbody>\n",
       "</table>\n",
       "</div>"
      ],
      "text/plain": [
       "                                              Tweets  len  \\\n",
       "0  RT @jeremyphoward: Practical Deep Learning for...  140   \n",
       "1  If you live under a rock, and do not know what...  140   \n",
       "2  PyTorch is now installed by default on Google ...  140   \n",
       "3  @RitchieNg @TensorFlow @ylecun pytorch's defau...  110   \n",
       "4                  @deliprao https://t.co/uaGiGCJxxW   33   \n",
       "5  RT @fb_engineering: We are open-sourcing a new...  140   \n",
       "6  RT @lmazare: The PyTorch/ocaml bindings should...  140   \n",
       "7  RT @jeremyphoward: Really proud to share \"What...  140   \n",
       "8  Delira - Deep Learning in Radiology\\nA Lightwe...  139   \n",
       "9  RT @edgarriba: PyTorch Geometry v0.1.1 is out ...  140   \n",
       "\n",
       "                    ID                Date              Source  Likes  RTs  \n",
       "0  1088893915456028673 2019-01-25 20:18:34  Twitter Web Client      0  903  \n",
       "1  1088882891403259909 2019-01-25 19:34:46  Twitter Web Client    158   29  \n",
       "2  1088882504700968960 2019-01-25 19:33:14  Twitter Web Client   1521  445  \n",
       "3  1088876243695661057 2019-01-25 19:08:21  Twitter Web Client     49    4  \n",
       "4  1088876049218355207 2019-01-25 19:07:35  Twitter Web Client      5    0  \n",
       "5  1087829562480881664 2019-01-22 21:49:13  Twitter Web Client      0  236  \n",
       "6  1086848463302647808 2019-01-20 04:50:40  Twitter Web Client      0   11  \n",
       "7  1085588508595515398 2019-01-16 17:24:04  Twitter Web Client      0  395  \n",
       "8  1085284497397112838 2019-01-15 21:16:02  Twitter Web Client    256   90  \n",
       "9  1083109932742987777 2019-01-09 21:15:05  Twitter Web Client      0   36  "
      ]
     },
     "metadata": {},
     "output_type": "display_data"
    }
   ],
   "source": [
    "# Display of first 10 elements from dataframe:\n",
    "display(data.head(10))\n"
   ]
  },
  {
   "cell_type": "markdown",
   "metadata": {},
   "source": [
    "## Visualisation and basic stats."
   ]
  },
  {
   "cell_type": "code",
   "execution_count": 11,
   "metadata": {},
   "outputs": [
    {
     "name": "stdout",
     "output_type": "stream",
     "text": [
      "The lenght's average in tweets: 124.71\n"
     ]
    }
   ],
   "source": [
    "# We extract the mean of lenghts:\n",
    "mean = np.mean(data['len'])\n",
    "\n",
    "print(\"The lenght's average in tweets: {}\".format(mean))\n"
   ]
  },
  {
   "cell_type": "code",
   "execution_count": 12,
   "metadata": {},
   "outputs": [
    {
     "name": "stdout",
     "output_type": "stream",
     "text": [
      "The tweet with more likes is: \n",
      "Microsoft VSCode integrates deeply with PyTorch out of the box.\n",
      "\n",
      "As @aerinykim highlights:\n",
      "\n",
      "1. It shows values insi… https://t.co/bBpv4DxKlH\n",
      "Number of likes: 1649\n",
      "140 characters.\n",
      "\n",
      "The tweet with more retweets is: \n",
      "RT @henddkn: Tataa ! I'm happy to announce the release of #GANpaint today - based on the new #GANdissect method, which helps to identify wh…\n",
      "Number of retweets: 1327\n",
      "140 characters.\n",
      "\n"
     ]
    }
   ],
   "source": [
    "# We extract the tweet with more FAVs and more RTs:\n",
    "\n",
    "fav_max = np.max(data['Likes'])\n",
    "rt_max  = np.max(data['RTs'])\n",
    "\n",
    "fav = data[data.Likes == fav_max].index[0]\n",
    "rt  = data[data.RTs == rt_max].index[0]\n",
    "\n",
    "# Max FAVs:\n",
    "print(\"The tweet with more likes is: \\n{}\".format(data['Tweets'][fav]))\n",
    "print(\"Number of likes: {}\".format(fav_max))\n",
    "print(\"{} characters.\\n\".format(data['len'][fav]))\n",
    "\n",
    "# Max RTs:\n",
    "print(\"The tweet with more retweets is: \\n{}\".format(data['Tweets'][rt]))\n",
    "print(\"Number of retweets: {}\".format(rt_max))\n",
    "print(\"{} characters.\\n\".format(data['len'][rt]))\n"
   ]
  },
  {
   "cell_type": "code",
   "execution_count": 13,
   "metadata": {},
   "outputs": [],
   "source": [
    "# We create time series for data:\n",
    "\n",
    "tlen = pd.Series(data=data['len'].values, index=data['Date'])\n",
    "tfav = pd.Series(data=data['Likes'].values, index=data['Date'])\n",
    "tret = pd.Series(data=data['RTs'].values, index=data['Date'])\n"
   ]
  },
  {
   "cell_type": "code",
   "execution_count": 14,
   "metadata": {},
   "outputs": [
    {
     "data": {
      "image/png": "[encoded data removed]",
      "text/plain": [
       "<matplotlib.figure.Figure at 0x7ff455701a20>"
      ]
     },
     "metadata": {},
     "output_type": "display_data"
    }
   ],
   "source": [
    "# Lenghts along time:\n",
    "tlen.plot(figsize=(16,4), color='r');\n"
   ]
  },
  {
   "cell_type": "code",
   "execution_count": 15,
   "metadata": {},
   "outputs": [
    {
     "data": {
      "image/png": "[encoded data removed]",
      "text/plain": [
       "<matplotlib.figure.Figure at 0x7ff452bb30f0>"
      ]
     },
     "metadata": {},
     "output_type": "display_data"
    }
   ],
   "source": [
    "# Likes vs retweets visualization:\n",
    "tfav.plot(figsize=(16,4), label=\"Likes\", legend=True)\n",
    "tret.plot(figsize=(16,4), label=\"Retweets\", legend=True);\n"
   ]
  },
  {
   "cell_type": "code",
   "execution_count": 16,
   "metadata": {},
   "outputs": [
    {
     "name": "stdout",
     "output_type": "stream",
     "text": [
      "Creation of content sources:\n",
      "* Twitter Web Client\n",
      "* Twitter for iPhone\n"
     ]
    }
   ],
   "source": [
    "# We obtain all possible sources:\n",
    "sources = []\n",
    "for source in data['Source']:\n",
    "    if source not in sources:\n",
    "        sources.append(source)\n",
    "\n",
    "# We print sources list:\n",
    "print(\"Creation of content sources:\")\n",
    "for source in sources:\n",
    "    print(\"* {}\".format(source))\n"
   ]
  },
  {
   "cell_type": "code",
   "execution_count": 17,
   "metadata": {},
   "outputs": [
    {
     "data": {
      "image/png": "[encoded data removed]",
      "text/plain": [
       "<matplotlib.figure.Figure at 0x7ff4529caa58>"
      ]
     },
     "metadata": {},
     "output_type": "display_data"
    }
   ],
   "source": [
    "# We create a numpy vector mapped to labels:\n",
    "percent = np.zeros(len(sources))\n",
    "\n",
    "for source in data['Source']:\n",
    "    for index in range(len(sources)):\n",
    "        if source == sources[index]:\n",
    "            percent[index] += 1\n",
    "            pass\n",
    "\n",
    "percent /= 100\n",
    "\n",
    "# Pie chart:\n",
    "pie_chart = pd.Series(percent, index=sources, name='Sources')\n",
    "pie_chart.plot.pie(fontsize=11, autopct='%.2f', figsize=(6, 6));\n"
   ]
  },
  {
   "cell_type": "markdown",
   "metadata": {},
   "source": [
    "## Sentiment analysis"
   ]
  },
  {
   "cell_type": "code",
   "execution_count": 19,
   "metadata": {},
   "outputs": [],
   "source": [
    "from textblob import TextBlob\n",
    "import re\n",
    "\n",
    "def clean_tweet(tweet):\n",
    "    '''\n",
    "    Utility function to clean the text in a tweet by removing \n",
    "    links and special characters using regex.\n",
    "    '''\n",
    "    return ' '.join(re.sub(\"(@[A-Za-z0-9]+)|([^0-9A-Za-z \\t])|(\\w+:\\/\\/\\S+)\", \" \", tweet).split())\n",
    "\n",
    "def analyze_sentiment(tweet):\n",
    "    '''\n",
    "    Utility function to classify the polarity of a tweet\n",
    "    using textblob.\n",
    "    '''\n",
    "    analysis = TextBlob(clean_tweet(tweet))\n",
    "    if analysis.sentiment.polarity > 0:\n",
    "        return 1\n",
    "    elif analysis.sentiment.polarity == 0:\n",
    "        return 0\n",
    "    else:\n",
    "        return -1\n"
   ]
  },
  {
   "cell_type": "code",
   "execution_count": 21,
   "metadata": {},
   "outputs": [
    {
     "data": {
      "text/html": [
       "<div>\n",
       "<style scoped>\n",
       "    .dataframe tbody tr th:only-of-type {\n",
       "        vertical-align: middle;\n",
       "    }\n",
       "\n",
       "    .dataframe tbody tr th {\n",
       "        vertical-align: top;\n",
       "    }\n",
       "\n",
       "    .dataframe thead th {\n",
       "        text-align: right;\n",
       "    }\n",
       "</style>\n",
       "<table border=\"1\" class=\"dataframe\">\n",
       "  <thead>\n",
       "    <tr style=\"text-align: right;\">\n",
       "      <th></th>\n",
       "      <th>Tweets</th>\n",
       "      <th>len</th>\n",
       "      <th>ID</th>\n",
       "      <th>Date</th>\n",
       "      <th>Source</th>\n",
       "      <th>Likes</th>\n",
       "      <th>RTs</th>\n",
       "      <th>SA</th>\n",
       "    </tr>\n",
       "  </thead>\n",
       "  <tbody>\n",
       "    <tr>\n",
       "      <th>0</th>\n",
       "      <td>RT @jeremyphoward: Practical Deep Learning for...</td>\n",
       "      <td>140</td>\n",
       "      <td>1088893915456028673</td>\n",
       "      <td>2019-01-25 20:18:34</td>\n",
       "      <td>Twitter Web Client</td>\n",
       "      <td>0</td>\n",
       "      <td>903</td>\n",
       "      <td>1</td>\n",
       "    </tr>\n",
       "    <tr>\n",
       "      <th>1</th>\n",
       "      <td>If you live under a rock, and do not know what...</td>\n",
       "      <td>140</td>\n",
       "      <td>1088882891403259909</td>\n",
       "      <td>2019-01-25 19:34:46</td>\n",
       "      <td>Twitter Web Client</td>\n",
       "      <td>158</td>\n",
       "      <td>29</td>\n",
       "      <td>1</td>\n",
       "    </tr>\n",
       "    <tr>\n",
       "      <th>2</th>\n",
       "      <td>PyTorch is now installed by default on Google ...</td>\n",
       "      <td>140</td>\n",
       "      <td>1088882504700968960</td>\n",
       "      <td>2019-01-25 19:33:14</td>\n",
       "      <td>Twitter Web Client</td>\n",
       "      <td>1521</td>\n",
       "      <td>445</td>\n",
       "      <td>0</td>\n",
       "    </tr>\n",
       "    <tr>\n",
       "      <th>3</th>\n",
       "      <td>@RitchieNg @TensorFlow @ylecun pytorch's defau...</td>\n",
       "      <td>110</td>\n",
       "      <td>1088876243695661057</td>\n",
       "      <td>2019-01-25 19:08:21</td>\n",
       "      <td>Twitter Web Client</td>\n",
       "      <td>49</td>\n",
       "      <td>4</td>\n",
       "      <td>0</td>\n",
       "    </tr>\n",
       "    <tr>\n",
       "      <th>4</th>\n",
       "      <td>@deliprao https://t.co/uaGiGCJxxW</td>\n",
       "      <td>33</td>\n",
       "      <td>1088876049218355207</td>\n",
       "      <td>2019-01-25 19:07:35</td>\n",
       "      <td>Twitter Web Client</td>\n",
       "      <td>5</td>\n",
       "      <td>0</td>\n",
       "      <td>0</td>\n",
       "    </tr>\n",
       "    <tr>\n",
       "      <th>5</th>\n",
       "      <td>RT @fb_engineering: We are open-sourcing a new...</td>\n",
       "      <td>140</td>\n",
       "      <td>1087829562480881664</td>\n",
       "      <td>2019-01-22 21:49:13</td>\n",
       "      <td>Twitter Web Client</td>\n",
       "      <td>0</td>\n",
       "      <td>236</td>\n",
       "      <td>1</td>\n",
       "    </tr>\n",
       "    <tr>\n",
       "      <th>6</th>\n",
       "      <td>RT @lmazare: The PyTorch/ocaml bindings should...</td>\n",
       "      <td>140</td>\n",
       "      <td>1086848463302647808</td>\n",
       "      <td>2019-01-20 04:50:40</td>\n",
       "      <td>Twitter Web Client</td>\n",
       "      <td>0</td>\n",
       "      <td>11</td>\n",
       "      <td>0</td>\n",
       "    </tr>\n",
       "    <tr>\n",
       "      <th>7</th>\n",
       "      <td>RT @jeremyphoward: Really proud to share \"What...</td>\n",
       "      <td>140</td>\n",
       "      <td>1085588508595515398</td>\n",
       "      <td>2019-01-16 17:24:04</td>\n",
       "      <td>Twitter Web Client</td>\n",
       "      <td>0</td>\n",
       "      <td>395</td>\n",
       "      <td>1</td>\n",
       "    </tr>\n",
       "    <tr>\n",
       "      <th>8</th>\n",
       "      <td>Delira - Deep Learning in Radiology\\nA Lightwe...</td>\n",
       "      <td>139</td>\n",
       "      <td>1085284497397112838</td>\n",
       "      <td>2019-01-15 21:16:02</td>\n",
       "      <td>Twitter Web Client</td>\n",
       "      <td>256</td>\n",
       "      <td>90</td>\n",
       "      <td>1</td>\n",
       "    </tr>\n",
       "    <tr>\n",
       "      <th>9</th>\n",
       "      <td>RT @edgarriba: PyTorch Geometry v0.1.1 is out ...</td>\n",
       "      <td>140</td>\n",
       "      <td>1083109932742987777</td>\n",
       "      <td>2019-01-09 21:15:05</td>\n",
       "      <td>Twitter Web Client</td>\n",
       "      <td>0</td>\n",
       "      <td>36</td>\n",
       "      <td>1</td>\n",
       "    </tr>\n",
       "  </tbody>\n",
       "</table>\n",
       "</div>"
      ],
      "text/plain": [
       "                                              Tweets  len  \\\n",
       "0  RT @jeremyphoward: Practical Deep Learning for...  140   \n",
       "1  If you live under a rock, and do not know what...  140   \n",
       "2  PyTorch is now installed by default on Google ...  140   \n",
       "3  @RitchieNg @TensorFlow @ylecun pytorch's defau...  110   \n",
       "4                  @deliprao https://t.co/uaGiGCJxxW   33   \n",
       "5  RT @fb_engineering: We are open-sourcing a new...  140   \n",
       "6  RT @lmazare: The PyTorch/ocaml bindings should...  140   \n",
       "7  RT @jeremyphoward: Really proud to share \"What...  140   \n",
       "8  Delira - Deep Learning in Radiology\\nA Lightwe...  139   \n",
       "9  RT @edgarriba: PyTorch Geometry v0.1.1 is out ...  140   \n",
       "\n",
       "                    ID                Date              Source  Likes  RTs  SA  \n",
       "0  1088893915456028673 2019-01-25 20:18:34  Twitter Web Client      0  903   1  \n",
       "1  1088882891403259909 2019-01-25 19:34:46  Twitter Web Client    158   29   1  \n",
       "2  1088882504700968960 2019-01-25 19:33:14  Twitter Web Client   1521  445   0  \n",
       "3  1088876243695661057 2019-01-25 19:08:21  Twitter Web Client     49    4   0  \n",
       "4  1088876049218355207 2019-01-25 19:07:35  Twitter Web Client      5    0   0  \n",
       "5  1087829562480881664 2019-01-22 21:49:13  Twitter Web Client      0  236   1  \n",
       "6  1086848463302647808 2019-01-20 04:50:40  Twitter Web Client      0   11   0  \n",
       "7  1085588508595515398 2019-01-16 17:24:04  Twitter Web Client      0  395   1  \n",
       "8  1085284497397112838 2019-01-15 21:16:02  Twitter Web Client    256   90   1  \n",
       "9  1083109932742987777 2019-01-09 21:15:05  Twitter Web Client      0   36   1  "
      ]
     },
     "metadata": {},
     "output_type": "display_data"
    }
   ],
   "source": [
    "# We create a column with the result of the analysis:\n",
    "data['SA'] = np.array([ analyze_sentiment(tweet) for tweet in data['Tweets'] ])\n",
    "\n",
    "# We display the updated dataframe with the new column:\n",
    "display(data.head(10))\n"
   ]
  },
  {
   "cell_type": "code",
   "execution_count": 22,
   "metadata": {},
   "outputs": [],
   "source": [
    "# We construct lists with classified tweets:\n",
    "\n",
    "pos_tweets = [ tweet for index, tweet in enumerate(data['Tweets']) if data['SA'][index] > 0]\n",
    "neu_tweets = [ tweet for index, tweet in enumerate(data['Tweets']) if data['SA'][index] == 0]\n",
    "neg_tweets = [ tweet for index, tweet in enumerate(data['Tweets']) if data['SA'][index] < 0]\n"
   ]
  },
  {
   "cell_type": "code",
   "execution_count": 24,
   "metadata": {},
   "outputs": [
    {
     "name": "stdout",
     "output_type": "stream",
     "text": [
      "Percentage of positive tweets: 51.5%\n",
      "Percentage of neutral tweets: 41.5%\n",
      "Percentage of negative tweets: 7.0%\n"
     ]
    }
   ],
   "source": [
    "# We print percentages:\n",
    "\n",
    "print(\"Percentage of positive tweets: {}%\".format(len(pos_tweets)*100/len(data['Tweets'])))\n",
    "print(\"Percentage of neutral tweets: {}%\".format(len(neu_tweets)*100/len(data['Tweets'])))\n",
    "print(\"Percentage of negative tweets: {}%\".format(len(neg_tweets)*100/len(data['Tweets'])))\n"
   ]
  },
  {
   "cell_type": "markdown",
   "metadata": {},
   "source": [
    "## Retweet analysis\n",
    "Basing this next piece of analysis on the tutorial [here](https://mediaeffectsresearch.wordpress.com/constructing-a-retweet-network/).\n",
    "\n",
    "Want to create some kind of mention network and visualise it...\n",
    "\n",
    "NB: currently BELOW DOESN'T WORK!"
   ]
  },
  {
   "cell_type": "code",
   "execution_count": 30,
   "metadata": {},
   "outputs": [
    {
     "ename": "NameError",
     "evalue": "name 'screen_name_list' is not defined",
     "output_type": "error",
     "traceback": [
      "\u001b[0;31m---------------------------------------------------------------------------\u001b[0m",
      "\u001b[0;31mNameError\u001b[0m                                 Traceback (most recent call last)",
      "\u001b[0;32m<ipython-input-30-2dc02aaca30e>\u001b[0m in \u001b[0;36m<module>\u001b[0;34m()\u001b[0m\n\u001b[1;32m      4\u001b[0m \u001b[0msn_read\u001b[0m \u001b[0;34m=\u001b[0m \u001b[0;36m0\u001b[0m\u001b[0;34m\u001b[0m\u001b[0m\n\u001b[1;32m      5\u001b[0m \u001b[0;32mwith\u001b[0m \u001b[0mopen\u001b[0m\u001b[0;34m(\u001b[0m\u001b[0mF_NAME\u001b[0m\u001b[0;34m,\u001b[0m\u001b[0;34m'w'\u001b[0m\u001b[0;34m)\u001b[0m \u001b[0;32mas\u001b[0m \u001b[0mf_out\u001b[0m\u001b[0;34m:\u001b[0m\u001b[0;34m\u001b[0m\u001b[0m\n\u001b[0;32m----> 6\u001b[0;31m     \u001b[0;32mfor\u001b[0m \u001b[0mscreen_name\u001b[0m \u001b[0;32min\u001b[0m \u001b[0mscreen_name_list\u001b[0m\u001b[0;34m:\u001b[0m\u001b[0;34m\u001b[0m\u001b[0m\n\u001b[0m\u001b[1;32m      7\u001b[0m         \u001b[0;32mtry\u001b[0m\u001b[0;34m:\u001b[0m\u001b[0;34m\u001b[0m\u001b[0m\n\u001b[1;32m      8\u001b[0m             \u001b[0msearch\u001b[0m \u001b[0;34m=\u001b[0m \u001b[0mextractor\u001b[0m\u001b[0;34m.\u001b[0m\u001b[0muser_timeline\u001b[0m\u001b[0;34m(\u001b[0m\u001b[0mscreen_name\u001b[0m \u001b[0;34m=\u001b[0m \u001b[0mscreen_name\u001b[0m\u001b[0;34m,\u001b[0m \u001b[0mmin_id\u001b[0m \u001b[0;34m=\u001b[0m \u001b[0mmin_id\u001b[0m\u001b[0;34m,\u001b[0m \u001b[0mmax_id\u001b[0m \u001b[0;34m=\u001b[0m \u001b[0mmax_id\u001b[0m\u001b[0;34m,\u001b[0m \u001b[0minclude_rts\u001b[0m \u001b[0;34m=\u001b[0m \u001b[0;32mTrue\u001b[0m\u001b[0;34m)\u001b[0m\u001b[0;34m\u001b[0m\u001b[0m\n",
      "\u001b[0;31mNameError\u001b[0m: name 'screen_name_list' is not defined"
     ]
    }
   ],
   "source": [
    "#F_NAME = 'mp_retweet_data_({%s}_to_{%s}).json'.format(start_date.isoformat(), end_date.isoformat())\n",
    "F_NAME = 'retweet_data.json'\n",
    "tweets_read = 0\n",
    "sn_read = 0\n",
    "with open(F_NAME,'w') as f_out:\n",
    "    for screen_name in screen_name_list:\n",
    "        try:\n",
    "            search = extractor.user_timeline(screen_name = screen_name, min_id = min_id, max_id = max_id, include_rts = True)\n",
    "        except tweepy.TweepError:\n",
    "            pass # can't get records from this user, probably a protected account and it is safe to skip\n",
    "        else:\n",
    "            for result in search:\n",
    "                tweet = result._json\n",
    "                if tweet.get('retweeted_status'):\n",
    "                    json.dump(tweet, f_out)\n",
    "                    f_out.write('\\n')\n",
    "                    tweets_read += 1\n",
    "            sn_read += 1\n",
    "            print('\\rUsers read:\\t%d/%d\\tRetweets read:\\t%d' % (sn_read, len(screen_name_list), tweets_read))\n",
    "\n",
    "print('\\rUsers read:\\t%d/%d\\tRetweets read:\\t%d\\tFinished!' % (sn_read, len(screen_name_list), tweets_read))"
   ]
  },
  {
   "cell_type": "code",
   "execution_count": null,
   "metadata": {},
   "outputs": [],
   "source": []
  }
 ],
 "metadata": {
  "kernelspec": {
   "display_name": "Python [conda env:py36]",
   "language": "python",
   "name": "conda-env-py36-py"
  },
  "language_info": {
   "codemirror_mode": {
    "name": "ipython",
    "version": 3
   },
   "file_extension": ".py",
   "mimetype": "text/x-python",
   "name": "python",
   "nbconvert_exporter": "python",
   "pygments_lexer": "ipython3",
   "version": "3.6.5"
  }
 },
 "nbformat": 4,
 "nbformat_minor": 2
}
